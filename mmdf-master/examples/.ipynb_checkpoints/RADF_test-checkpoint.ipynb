{
 "cells": [
  {
   "cell_type": "code",
   "execution_count": 1,
   "metadata": {},
   "outputs": [
    {
     "ename": "ImportError",
     "evalue": "No module named google.protobuf.internal",
     "output_type": "error",
     "traceback": [
      "\u001b[0;31m---------------------------------------------------------------------------\u001b[0m",
      "\u001b[0;31mImportError\u001b[0m                               Traceback (most recent call last)",
      "\u001b[0;32m<ipython-input-1-ad9d4559304e>\u001b[0m in \u001b[0;36m<module>\u001b[0;34m()\u001b[0m\n\u001b[1;32m     16\u001b[0m \u001b[0msys\u001b[0m\u001b[0;34m.\u001b[0m\u001b[0mpath\u001b[0m\u001b[0;34m.\u001b[0m\u001b[0minsert\u001b[0m\u001b[0;34m(\u001b[0m\u001b[0;36m0\u001b[0m\u001b[0;34m,\u001b[0m \u001b[0mcaffe_root\u001b[0m \u001b[0;34m+\u001b[0m \u001b[0;34m'python'\u001b[0m\u001b[0;34m)\u001b[0m\u001b[0;34m\u001b[0m\u001b[0m\n\u001b[1;32m     17\u001b[0m \u001b[0;34m\u001b[0m\u001b[0m\n\u001b[0;32m---> 18\u001b[0;31m \u001b[0;32mimport\u001b[0m \u001b[0mcaffe\u001b[0m\u001b[0;34m\u001b[0m\u001b[0m\n\u001b[0m\u001b[1;32m     19\u001b[0m \u001b[0;34m\u001b[0m\u001b[0m\n\u001b[1;32m     20\u001b[0m \u001b[0mEPSILON\u001b[0m \u001b[0;34m=\u001b[0m \u001b[0;36m1e-8\u001b[0m\u001b[0;34m\u001b[0m\u001b[0m\n",
      "\u001b[0;32m/home/jack/Myproject/work1/RADF-master/python/caffe/__init__.py\u001b[0m in \u001b[0;36m<module>\u001b[0;34m()\u001b[0m\n\u001b[0;32m----> 1\u001b[0;31m \u001b[0;32mfrom\u001b[0m \u001b[0;34m.\u001b[0m\u001b[0mpycaffe\u001b[0m \u001b[0;32mimport\u001b[0m \u001b[0mNet\u001b[0m\u001b[0;34m,\u001b[0m \u001b[0mSGDSolver\u001b[0m\u001b[0;34m,\u001b[0m \u001b[0mNesterovSolver\u001b[0m\u001b[0;34m,\u001b[0m \u001b[0mAdaGradSolver\u001b[0m\u001b[0;34m,\u001b[0m \u001b[0mRMSPropSolver\u001b[0m\u001b[0;34m,\u001b[0m \u001b[0mAdaDeltaSolver\u001b[0m\u001b[0;34m,\u001b[0m \u001b[0mAdamSolver\u001b[0m\u001b[0;34m\u001b[0m\u001b[0m\n\u001b[0m\u001b[1;32m      2\u001b[0m \u001b[0;32mfrom\u001b[0m \u001b[0;34m.\u001b[0m\u001b[0m_caffe\u001b[0m \u001b[0;32mimport\u001b[0m \u001b[0mset_mode_cpu\u001b[0m\u001b[0;34m,\u001b[0m \u001b[0mset_mode_gpu\u001b[0m\u001b[0;34m,\u001b[0m \u001b[0mset_device\u001b[0m\u001b[0;34m,\u001b[0m \u001b[0mLayer\u001b[0m\u001b[0;34m,\u001b[0m \u001b[0mget_solver\u001b[0m\u001b[0;34m,\u001b[0m \u001b[0mlayer_type_list\u001b[0m\u001b[0;34m,\u001b[0m \u001b[0mset_random_seed\u001b[0m\u001b[0;34m\u001b[0m\u001b[0m\n\u001b[1;32m      3\u001b[0m \u001b[0;32mfrom\u001b[0m \u001b[0;34m.\u001b[0m\u001b[0m_caffe\u001b[0m \u001b[0;32mimport\u001b[0m \u001b[0m__version__\u001b[0m\u001b[0;34m\u001b[0m\u001b[0m\n\u001b[1;32m      4\u001b[0m \u001b[0;32mfrom\u001b[0m \u001b[0;34m.\u001b[0m\u001b[0mproto\u001b[0m\u001b[0;34m.\u001b[0m\u001b[0mcaffe_pb2\u001b[0m \u001b[0;32mimport\u001b[0m \u001b[0mTRAIN\u001b[0m\u001b[0;34m,\u001b[0m \u001b[0mTEST\u001b[0m\u001b[0;34m\u001b[0m\u001b[0m\n\u001b[1;32m      5\u001b[0m \u001b[0;32mfrom\u001b[0m \u001b[0;34m.\u001b[0m\u001b[0mclassifier\u001b[0m \u001b[0;32mimport\u001b[0m \u001b[0mClassifier\u001b[0m\u001b[0;34m\u001b[0m\u001b[0m\n",
      "\u001b[0;32m/home/jack/Myproject/work1/RADF-master/python/caffe/pycaffe.py\u001b[0m in \u001b[0;36m<module>\u001b[0;34m()\u001b[0m\n\u001b[1;32m     13\u001b[0m \u001b[0;32mfrom\u001b[0m \u001b[0;34m.\u001b[0m\u001b[0m_caffe\u001b[0m \u001b[0;32mimport\u001b[0m \u001b[0mNet\u001b[0m\u001b[0;34m,\u001b[0m \u001b[0mSGDSolver\u001b[0m\u001b[0;34m,\u001b[0m \u001b[0mNesterovSolver\u001b[0m\u001b[0;34m,\u001b[0m \u001b[0mAdaGradSolver\u001b[0m\u001b[0;34m,\u001b[0m\u001b[0;31m \u001b[0m\u001b[0;31m\\\u001b[0m\u001b[0;34m\u001b[0m\u001b[0m\n\u001b[1;32m     14\u001b[0m         \u001b[0mRMSPropSolver\u001b[0m\u001b[0;34m,\u001b[0m \u001b[0mAdaDeltaSolver\u001b[0m\u001b[0;34m,\u001b[0m \u001b[0mAdamSolver\u001b[0m\u001b[0;34m\u001b[0m\u001b[0m\n\u001b[0;32m---> 15\u001b[0;31m \u001b[0;32mimport\u001b[0m \u001b[0mcaffe\u001b[0m\u001b[0;34m.\u001b[0m\u001b[0mio\u001b[0m\u001b[0;34m\u001b[0m\u001b[0m\n\u001b[0m\u001b[1;32m     16\u001b[0m \u001b[0;34m\u001b[0m\u001b[0m\n\u001b[1;32m     17\u001b[0m \u001b[0;32mimport\u001b[0m \u001b[0msix\u001b[0m\u001b[0;34m\u001b[0m\u001b[0m\n",
      "\u001b[0;32m/home/jack/Myproject/work1/RADF-master/python/caffe/io.py\u001b[0m in \u001b[0;36m<module>\u001b[0;34m()\u001b[0m\n\u001b[1;32m      6\u001b[0m \u001b[0;32mtry\u001b[0m\u001b[0;34m:\u001b[0m\u001b[0;34m\u001b[0m\u001b[0m\n\u001b[1;32m      7\u001b[0m     \u001b[0;31m# Python3 will most likely not be able to load protobuf\u001b[0m\u001b[0;34m\u001b[0m\u001b[0;34m\u001b[0m\u001b[0m\n\u001b[0;32m----> 8\u001b[0;31m     \u001b[0;32mfrom\u001b[0m \u001b[0mcaffe\u001b[0m\u001b[0;34m.\u001b[0m\u001b[0mproto\u001b[0m \u001b[0;32mimport\u001b[0m \u001b[0mcaffe_pb2\u001b[0m\u001b[0;34m\u001b[0m\u001b[0m\n\u001b[0m\u001b[1;32m      9\u001b[0m \u001b[0;32mexcept\u001b[0m\u001b[0;34m:\u001b[0m\u001b[0;34m\u001b[0m\u001b[0m\n\u001b[1;32m     10\u001b[0m     \u001b[0;32mimport\u001b[0m \u001b[0msys\u001b[0m\u001b[0;34m\u001b[0m\u001b[0m\n",
      "\u001b[0;32m/home/jack/Myproject/work1/RADF-master/python/caffe/proto/caffe_pb2.py\u001b[0m in \u001b[0;36m<module>\u001b[0;34m()\u001b[0m\n\u001b[1;32m      4\u001b[0m \u001b[0;32mimport\u001b[0m \u001b[0msys\u001b[0m\u001b[0;34m\u001b[0m\u001b[0m\n\u001b[1;32m      5\u001b[0m \u001b[0m_b\u001b[0m\u001b[0;34m=\u001b[0m\u001b[0msys\u001b[0m\u001b[0;34m.\u001b[0m\u001b[0mversion_info\u001b[0m\u001b[0;34m[\u001b[0m\u001b[0;36m0\u001b[0m\u001b[0;34m]\u001b[0m\u001b[0;34m<\u001b[0m\u001b[0;36m3\u001b[0m \u001b[0;32mand\u001b[0m \u001b[0;34m(\u001b[0m\u001b[0;32mlambda\u001b[0m \u001b[0mx\u001b[0m\u001b[0;34m:\u001b[0m\u001b[0mx\u001b[0m\u001b[0;34m)\u001b[0m \u001b[0;32mor\u001b[0m \u001b[0;34m(\u001b[0m\u001b[0;32mlambda\u001b[0m \u001b[0mx\u001b[0m\u001b[0;34m:\u001b[0m\u001b[0mx\u001b[0m\u001b[0;34m.\u001b[0m\u001b[0mencode\u001b[0m\u001b[0;34m(\u001b[0m\u001b[0;34m'latin1'\u001b[0m\u001b[0;34m)\u001b[0m\u001b[0;34m)\u001b[0m\u001b[0;34m\u001b[0m\u001b[0m\n\u001b[0;32m----> 6\u001b[0;31m \u001b[0;32mfrom\u001b[0m \u001b[0mgoogle\u001b[0m\u001b[0;34m.\u001b[0m\u001b[0mprotobuf\u001b[0m\u001b[0;34m.\u001b[0m\u001b[0minternal\u001b[0m \u001b[0;32mimport\u001b[0m \u001b[0menum_type_wrapper\u001b[0m\u001b[0;34m\u001b[0m\u001b[0m\n\u001b[0m\u001b[1;32m      7\u001b[0m \u001b[0;32mfrom\u001b[0m \u001b[0mgoogle\u001b[0m\u001b[0;34m.\u001b[0m\u001b[0mprotobuf\u001b[0m \u001b[0;32mimport\u001b[0m \u001b[0mdescriptor\u001b[0m \u001b[0;32mas\u001b[0m \u001b[0m_descriptor\u001b[0m\u001b[0;34m\u001b[0m\u001b[0m\n\u001b[1;32m      8\u001b[0m \u001b[0;32mfrom\u001b[0m \u001b[0mgoogle\u001b[0m\u001b[0;34m.\u001b[0m\u001b[0mprotobuf\u001b[0m \u001b[0;32mimport\u001b[0m \u001b[0mmessage\u001b[0m \u001b[0;32mas\u001b[0m \u001b[0m_message\u001b[0m\u001b[0;34m\u001b[0m\u001b[0m\n",
      "\u001b[0;31mImportError\u001b[0m: No module named google.protobuf.internal"
     ]
    }
   ],
   "source": [
    "import numpy as np\n",
    "import matplotlib.pyplot as plt\n",
    "import matplotlib.pylab as pylab\n",
    "import matplotlib.cm as cm\n",
    "import scipy.misc\n",
    "import Image\n",
    "import scipy.io\n",
    "import os\n",
    "import scipy.misc\n",
    "import time\n",
    "\n",
    "%matplotlib inline\n",
    "# Make sure that caffe is on the python path:\n",
    "caffe_root = '../'\n",
    "import sys\n",
    "sys.path.insert(0, caffe_root + 'python')\n",
    "\n",
    "import caffe\n",
    "\n",
    "EPSILON = 1e-8"
   ]
  },
  {
   "cell_type": "code",
   "execution_count": null,
   "metadata": {},
   "outputs": [],
   "source": [
    " def getFileList( p ):\n",
    "        p = str( p )\n",
    "        if p==\"\":\n",
    "              return [ ]\n",
    "        #p = p.replace( \"/\",\"/\")\n",
    "        if p[ -1] != \"/\":\n",
    "             p = p+\"/\"\n",
    "        a = os.listdir( p )\n",
    "        b = [ x   for x in a if os.path.isfile( p + x ) ]\n",
    "        return b\n",
    "    \n",
    "\n",
    "#data_root = '/home/xwhu/dataset/MSRA10K/MSRA10K_Imgs_GT/Imgs/'\n",
    "#with open('../data/msra10k/test.txt') as f:\n",
    "    \n",
    "data_root = '/home/jack/Myproject/work1/datasets/ECSSD/img/'\n",
    "with open('../data/ECSSD/test.txt') as f:\n",
    "    \n",
    "#data_root = '/home/xwhu/dataset/HKU-IS/imgs/'\n",
    "#with open('../data/HKU-IS/test.txt') as f:    \n",
    "    \n",
    "#data_root = '/home/xwhu/dataset/PASCAL-S/input/'\n",
    "#with open('../data/PASCAL-S/test.txt') as f:    \n",
    "    \n",
    "#data_root = '/home/xwhu/dataset/SOD/image/'\n",
    "#with open('../data/SOD/test.txt') as f: \n",
    "    \n",
    "#data_root = '/home/xwhu/dataset/DUT-OMRON/DUT-OMRON-image/'\n",
    "#with open('../data/DUT-OMRON/test.txt') as f: \n",
    "    test_name = f.readlines()\n",
    "    \n",
    "test_lst = [data_root+x.strip() for x in test_name]"
   ]
  },
  {
   "cell_type": "code",
   "execution_count": null,
   "metadata": {},
   "outputs": [],
   "source": [
    "#remove the following two lines if testing with cpu\n",
    "caffe.set_mode_gpu()\n",
    "# choose which GPU you want to use\n",
    "caffe.set_device(0)\n",
    "caffe.SGDSolver.display = 0\n",
    "# load net\n",
    "net = caffe.Net('deploy.prototxt', 'snapshot/RADF_iter_10000.caffemodel', caffe.TEST)"
   ]
  },
  {
   "cell_type": "code",
   "execution_count": null,
   "metadata": {},
   "outputs": [],
   "source": [
    "#Visualization\n",
    "def plot_single_scale(scale_lst, name_lst, size):\n",
    "    pylab.rcParams['figure.figsize'] = size, size/2\n",
    "    plt.figure()\n",
    "    for i in range(0, len(scale_lst)):\n",
    "        s = plt.subplot(1,5,i+1)\n",
    "        s.set_xlabel(name_lst[i], fontsize=10)\n",
    "        if name_lst[i] == 'Source':\n",
    "            plt.imshow(scale_lst[i])\n",
    "        else:\n",
    "            plt.imshow(scale_lst[i], cmap = cm.Greys_r)\n",
    "        s.set_xticklabels([])\n",
    "        s.set_yticklabels([])\n",
    "        s.yaxis.set_ticks_position('none')\n",
    "        s.xaxis.set_ticks_position('none')\n",
    "    plt.tight_layout()"
   ]
  },
  {
   "cell_type": "code",
   "execution_count": null,
   "metadata": {
    "scrolled": false
   },
   "outputs": [],
   "source": [
    "usedtime = 0;\n",
    "\n",
    "for idx in range(len(test_lst)):\n",
    "\n",
    "    # load image\n",
    "    img = Image.open(test_lst[idx])\n",
    "\n",
    "    if img.mode == 'L':\n",
    "        img_temp = np.zeros((img.size[1], img.size[0], 3))\n",
    "        img_temp[:,:,0] = img\n",
    "        img_temp[:,:,1] = img\n",
    "        img_temp[:,:,2] = img\n",
    "        img = img_temp\n",
    "    \n",
    "    \n",
    "    img = np.array(img, dtype=np.uint8)\n",
    "    im = np.array(img, dtype=np.float32)\n",
    "    im = im[:,:,::-1]\n",
    "    im -= np.array((104.00698793,116.66876762,122.67891434))\n",
    "    im = im.transpose((2,0,1))\n",
    "\n",
    "    # load gt\n",
    "    gt = Image.open(test_lst[idx])\n",
    "\n",
    "    # shape for input (data blob is N x C x H x W), set data\n",
    "    net.blobs['data'].reshape(1, *im.shape)\n",
    "    net.blobs['data'].data[...] = im\n",
    "    # run net and take argmax for prediction\n",
    "    \n",
    "    start_time = time.clock()\n",
    "    net.forward()\n",
    "    usedtime = usedtime + time.clock() - start_time\n",
    "    #avgtime = usedtime/(idx+1)\n",
    "    \n",
    "    out1 = net.blobs['sigmoid-dsn1'].data[0][0,:,:]\n",
    "    out2 = net.blobs['sigmoid-dsn2'].data[0][0,:,:]\n",
    "    out3 = net.blobs['sigmoid-dsn3'].data[0][0,:,:]\n",
    "    out4 = net.blobs['sigmoid-dsn4'].data[0][0,:,:]\n",
    "    out5 = net.blobs['sigmoid-dsn5'].data[0][0,:,:]\n",
    "    out6 = net.blobs['sigmoid-dsn6'].data[0][0,:,:]\n",
    "    fuse = net.blobs['sigmoid-fuse'].data[0][0,:,:]\n",
    "    \n",
    "    out3a = net.blobs['sigmoid-dsn3a'].data[0][0,:,:]\n",
    "    out4a = net.blobs['sigmoid-dsn4a'].data[0][0,:,:]\n",
    "    out5a = net.blobs['sigmoid-dsn5a'].data[0][0,:,:]\n",
    "    out1a = net.blobs['sigmoid-dsn1a'].data[0][0,:,:]\n",
    "    out2a = net.blobs['sigmoid-dsn2a'].data[0][0,:,:]\n",
    "    out6a = net.blobs['sigmoid-dsn6a'].data[0][0,:,:]\n",
    "    \n",
    "    res = (out1+out2+out6+out1a+out2a+out6a+out3a + out4a + out5a + out3 + out4 + out5 + fuse) / 13\n",
    " \n",
    "    res = (res - np.min(res) + EPSILON) / (np.max(res) - np.min(res) + EPSILON)\n",
    "    name_lst = ['SO1', 'SO2', 'SO3', 'SO4', 'SO5']\n",
    "    name_lst = ['SO6', 'Fuse', 'Result', 'Source', 'GT']\n",
    " \n",
    "    # save image\n",
    "    scipy.misc.imsave('./result/' + test_name[idx][:-5] + '.jpg',res)\n",
    "    \n",
    "    if (idx+1)%100 == 0:\n",
    "        print(\"%d / %d, time: %f s\" % (idx+1,len(test_lst),usedtime/(idx+1)))\n",
    "\n",
    "print 'done!'"
   ]
  },
  {
   "cell_type": "code",
   "execution_count": null,
   "metadata": {},
   "outputs": [],
   "source": []
  },
  {
   "cell_type": "code",
   "execution_count": null,
   "metadata": {},
   "outputs": [],
   "source": []
  },
  {
   "cell_type": "code",
   "execution_count": null,
   "metadata": {},
   "outputs": [],
   "source": []
  },
  {
   "cell_type": "code",
   "execution_count": null,
   "metadata": {},
   "outputs": [],
   "source": []
  },
  {
   "cell_type": "code",
   "execution_count": null,
   "metadata": {},
   "outputs": [],
   "source": []
  },
  {
   "cell_type": "code",
   "execution_count": null,
   "metadata": {},
   "outputs": [],
   "source": []
  }
 ],
 "metadata": {
  "kernelspec": {
   "display_name": "Python 2",
   "language": "python",
   "name": "python2"
  },
  "language_info": {
   "codemirror_mode": {
    "name": "ipython",
    "version": 2
   },
   "file_extension": ".py",
   "mimetype": "text/x-python",
   "name": "python",
   "nbconvert_exporter": "python",
   "pygments_lexer": "ipython2",
   "version": "2.7.12"
  }
 },
 "nbformat": 4,
 "nbformat_minor": 1
}
